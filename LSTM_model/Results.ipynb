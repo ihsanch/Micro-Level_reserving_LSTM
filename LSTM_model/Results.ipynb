{
 "cells": [
  {
   "cell_type": "code",
   "execution_count": null,
   "metadata": {},
   "outputs": [],
   "source": [
    "import numpy as np\n",
    "import pandas as pd\n",
    "import itertools\n",
    "import csv\n",
    "import matplotlib\n",
    "import matplotlib.pyplot as plt\n",
    "import seaborn as sns\n",
    "from sklearn.model_selection import train_test_split, cross_val_score\n",
    "#from sklearn.datasets import load_digits, make_moons, make_blobs\n",
    "#from sklearn.dummy import DummyClassifier\n",
    "from sklearn.metrics import accuracy_score, roc_curve, roc_auc_score, precision_recall_curve\n",
    "#import matplotlib.pylab as pylab\n",
    "#from matplotlib.colors import ListedColormap\n",
    "import torch.distributions\n",
    "import configparser\n",
    "config = configparser.ConfigParser()\n",
    "config.read('config_parameters.ini')\n",
    "from loader_LSTM import format_and_label, rearrange_columns, get_dataloaders\n",
    "\n",
    "\n",
    "torch.manual_seed(2019)\n",
    "np.random.seed(2019)\n",
    "\n",
    "data_valid = pd.read_csv('data_valid.csv', sep=';')\n",
    "data_test = pd.read_csv('data_test.csv', sep=';')"
   ]
  },
  {
   "cell_type": "code",
   "execution_count": null,
   "metadata": {},
   "outputs": [],
   "source": [
    "from LSTM_model import LSTM_Model, train, save_model\n",
    "net = LSTM_Model()\n",
    "net.load_state_dict(torch.load(\"weights/Weight_LSTM_Model_2048_0.2.pt\"))\n",
    "net.eval()"
   ]
  },
  {
   "cell_type": "code",
   "execution_count": null,
   "metadata": {},
   "outputs": [],
   "source": [
    "scale_param = pd.read_csv('scale_param.csv', sep=';')\n",
    "amount_mean = scale_param['amount_mean'].values[0] \n",
    "amount_std = scale_param['amount_std'].values[0]"
   ]
  },
  {
   "cell_type": "code",
   "execution_count": null,
   "metadata": {},
   "outputs": [],
   "source": [
    "def pred_dev(data, data_copy): #to predict development\n",
    "    #data_copy with unstandardized payments\n",
    "    data_label = format_and_label(data) #data with labeled columns to be recognized by the LSTM\n",
    "    x, y = rearrange_columns(data_label) #identify input and target\n",
    "    with torch.no_grad():\n",
    "        Ind_pay_pred, pay_pred = net.predict(x) #get prediction\n",
    "    print(Ind_pay_pred.shape)\n",
    "    # arrange the tensors dimensions\n",
    "    Ind_pay_pred = Ind_pay_pred.reshape(len(data), 11).numpy()\n",
    "    pay_pred = pay_pred.reshape(len(data), 11).numpy()\n",
    "    dev = np.arange(1, 12)\n",
    "    columns_name_1 = ['Ind_Pay_pred_' + str(i) for i in dev]\n",
    "    columns_name_2 = ['Pay_pred_' + str(i) for i in dev]\n",
    "    data_1 = pd.DataFrame(data=Ind_pay_pred, index=range(len(data)), dtype=np.float64, columns=columns_name_1)\n",
    "    data_2 = pd.DataFrame(data=pay_pred, index=range(len(data)), dtype=np.float64, columns=columns_name_2)\n",
    "    data_2 = pd.concat([data_1, data_2], axis=1)\n",
    "    data_v1 = pd.concat([data, data_2], axis=1) #data with predicted payments and probabilities\n",
    "    \n",
    "    # inverse standardize payment\n",
    "    for i in range(11):\n",
    "        pay_pred[:, i] = (pay_pred[:, i] * amount_std) + amount_mean\n",
    "    data_2 = pd.DataFrame(data=pay_pred, index=range(len(data)), dtype=np.float64, columns=columns_name_2)\n",
    "    data_2 = pd.concat([data_1, data_2], axis=1)\n",
    "    data_v2 = pd.concat([data_copy, data_2], axis=1) #data with unstandardized predicted payment\n",
    "\n",
    "    return data_v1, data_v2 \n",
    "\n",
    "# -----------------------------------------------\n",
    "# data_valid\n",
    "data_valid_copy = pd.read_csv('data_valid_copy.csv', sep=';')\n",
    "data_valid_v1, data_valid_v2 = pred_dev(data_valid, data_valid_copy)\n",
    "# data_test\n",
    "data_test_copy = pd.read_csv('data_test_copy.csv', sep=';')\n",
    "data_test_v1, data_test_v2 = pred_dev(data_test, data_test_copy)\n",
    "\n"
   ]
  },
  {
   "cell_type": "markdown",
   "metadata": {},
   "source": [
    "## Data preparation for comparison plots"
   ]
  },
  {
   "cell_type": "code",
   "execution_count": null,
   "metadata": {},
   "outputs": [],
   "source": [
    "# define column name lists\n",
    "dev = np.arange(0,12)\n",
    "\n",
    "Ind_pay_pred = [\"Ind_Pay_0\"] + ['Ind_Pay_pred_'+str(i) for i in dev[1:]]\n",
    "Ind_pay = ['Ind_Pay_'+str(i) for i in dev[1:]]\n",
    "Ind_pay_true = ['Ind_Pay_0']+[ x + '_true' for x in Ind_pay ]\n",
    "\n",
    "pay_pred = [\"Pay00\"] + ['Pay_pred_'+str(i) for i in dev[1:]]\n",
    "pay =  ['Pay_'+str(i) for i in dev[1:]]\n",
    "pay_true = [\"Pay00\"]+[ x + '_true' for x in pay ]"
   ]
  },
  {
   "cell_type": "code",
   "execution_count": null,
   "metadata": {},
   "outputs": [],
   "source": [
    "data_valid_brute = pd.read_csv('./Datasets/Simulated_Cashflow_valid_brute_LSTM.csv', sep=';')\n",
    "data_v = data_valid_brute.loc[:,pay_true+Ind_pay_true]\n",
    "\n",
    "data_test_brute = pd.read_csv('./Datasets/Simulated_Cashflow_test_brute_LSTM.csv', sep=';')\n",
    "data_t = data_test_brute.loc[:,pay_true+Ind_pay_true]\n"
   ]
  },
  {
   "cell_type": "code",
   "execution_count": null,
   "metadata": {},
   "outputs": [],
   "source": [
    "data_valid_comp = pd.concat([data_valid_v2, data_v], axis=1)\n",
    "data_test_comp = pd.concat([data_test_v2, data_t], axis=1)\n",
    "\n",
    "select_columns = Ind_pay_true + Ind_pay_pred + pay_true + pay_pred\n",
    "data_v_plot = data_valid_comp[select_columns]\n",
    "data_t_plot = data_test_comp[select_columns]"
   ]
  },
  {
   "cell_type": "markdown",
   "metadata": {},
   "source": [
    "## Plots "
   ]
  },
  {
   "cell_type": "code",
   "execution_count": null,
   "metadata": {},
   "outputs": [],
   "source": [
    "from matplotlib.ticker import ScalarFormatter\n",
    "\n",
    "class ScalarFormatterClass(ScalarFormatter):\n",
    "    def _set_format(self):\n",
    "        self.format = \"%1.1f\""
   ]
  },
  {
   "cell_type": "code",
   "execution_count": null,
   "metadata": {},
   "outputs": [],
   "source": [
    "fig = plt.figure()\n",
    "plt.rcParams['figure.figsize'] = [15,12]\n",
    "plt.rcParams[\"font.weight\"] = \"bold\"\n",
    "\n",
    "fontdict={'fontsize': 25,\n",
    "          'weight' : 'bold'}\n",
    "\n",
    "fontdicty={'fontsize': 18,\n",
    "          'weight' : 'bold',\n",
    "          'verticalalignment': 'baseline',\n",
    "          'horizontalalignment': 'center'}\n",
    "\n",
    "fontdictx={'fontsize': 18,\n",
    "          'weight' : 'bold',\n",
    "          'horizontalalignment': 'center'}\n",
    "plt.subplots_adjust(wspace=0.4, hspace=0.3)\n",
    "\n",
    "range_i = [0,1,2,4,6,8,10]\n",
    "axe_y_name = [\"$\\hat{Y}_2$\",\"$\\hat{Y}_3$\",\"$\\hat{Y}_5$\",\"$\\hat{Y}_7$\",\"$\\hat{Y}_9$\",\"$\\hat{Y}_{11}$\"]\n",
    "axe_x_name = [\"$Y_2$\",\"$Y_3$\",\"$Y_5$\",\"$Y_7$\",\"$Y_9$\",\"$Y_{11}$\"]\n",
    "\n",
    "\n",
    "print(\"payment columns are indexed 0 to 11 for periods 1 to 12\")\n",
    "for i in range(1,len(range_i)):\n",
    "    ax = fig.add_subplot(3,3,i)\n",
    "    subdata = data_t_plot.loc[data_t_plot.loc[:,pay_true[range_i[i]]]!=0]\n",
    "    ax.scatter(pay_true[range_i[i]],pay_pred[range_i[i]],data=subdata, alpha =0.2 )\n",
    "    ax.plot(ax.get_ylim(),ax.get_ylim(), color=\"black\")\n",
    "    print(pay_true[range_i[i]]) #payment columns are indexed 0 to 11 for periods 1 to 12\n",
    "    yScalarFormatter = ScalarFormatterClass(useMathText=True)\n",
    "    yScalarFormatter.set_powerlimits((0,0))\n",
    "    ax.yaxis.set_major_formatter(yScalarFormatter)\n",
    "    ax.xaxis.set_major_formatter(yScalarFormatter)\n",
    "    ax.tick_params(axis='x',labelsize=13)\n",
    "    ax.tick_params(axis='y',labelsize=13)\n",
    "    ax.set_xlabel(axe_x_name[i-1], fontdict=fontdicty, position=(0.5,0.5), fontsize = 17)\n",
    "    ax.set_ylabel(axe_y_name[i-1], fontdict=fontdicty, position=(0,0.5), fontsize = 17)\n",
    "    ax.xaxis.labelpad=17\n",
    "    if i==6:\n",
    "        plt.xlim(-30000,50000)\n"
   ]
  },
  {
   "cell_type": "code",
   "execution_count": null,
   "metadata": {},
   "outputs": [],
   "source": [
    "fig = plt.figure()\n",
    "plt.rcParams['figure.figsize'] = [15,3.5]\n",
    "plt.rcParams[\"font.weight\"] = \"bold\"\n",
    "\n",
    "fontdict={'fontsize': 25,\n",
    "          'weight' : 'bold'}\n",
    "\n",
    "fontdicty={'fontsize': 18,\n",
    "          'verticalalignment': 'baseline',\n",
    "          'horizontalalignment': 'center'}\n",
    "\n",
    "fontdictx={'fontsize': 18,\n",
    "          'horizontalalignment': 'center'}\n",
    "plt.subplots_adjust(wspace=0.3, hspace=0.4)\n",
    "green_diamond = dict(markerfacecolor=\"lightcoral\", marker='D',markersize=2)\n",
    "\n",
    "range_i = [0,1,2,4,8] \n",
    "axe_y_name = [\"$\\hat{p}_2$\",\"$\\hat{p}_3$\",\"$\\hat{p}_5$\",\"$\\hat{p}_9$\"]\n",
    "axe_x_name = [\"         $I_2$\",\"         $I_3$\",\"         $I_5$\",\"         $I_9$\"]\n",
    "\n",
    "print(\"Indicator columns are indexed 0 to 11 for periods 1 to 12\")\n",
    "\n",
    "for i in range(1,len(range_i)): \n",
    "    ax = fig.add_subplot(1,4,i)  \n",
    "    data_a = data_v_plot[data_v_plot.loc[:,Ind_pay_true[range_i[i]]]==0] \n",
    "    data_b = data_v_plot[data_v_plot.loc[:,Ind_pay_true[range_i[i]]]==1]\n",
    "    plt.boxplot(data_a.loc[:,Ind_pay_pred[range_i[i]]],flierprops=green_diamond,widths=0.6,positions=[1],boxprops=dict(facecolor=\"orange\",color=\"black\"),patch_artist=True)\n",
    "    plt.boxplot(data_b.loc[:,Ind_pay_pred[range_i[i]]],flierprops=green_diamond,widths=0.6,positions=[5],boxprops=dict(facecolor=\"orange\",color=\"black\"),patch_artist=True)\n",
    "    \n",
    "    data_a = data_t_plot[data_t_plot.loc[:,Ind_pay_true[range_i[i]]]==0]\n",
    "    data_b = data_t_plot[data_t_plot.loc[:,Ind_pay_true[range_i[i]]]==1]\n",
    "    plt.boxplot(data_a.loc[:,Ind_pay_pred[range_i[i]]],flierprops=green_diamond,widths=0.6,positions=[3],boxprops=dict(facecolor=\"skyblue\",color=\"black\"),patch_artist=True)\n",
    "    plt.boxplot(data_b.loc[:,Ind_pay_pred[range_i[i]]],flierprops=green_diamond,widths=0.6,positions=[7],boxprops=dict(facecolor=\"skyblue\",color=\"black\"),patch_artist=True)\n",
    "    print(Ind_pay_pred[range_i[i]],Ind_pay_true[range_i[i]])\n",
    "    plt.axvline(x=4,color=\"black\")\n",
    "    ax.set_xticklabels([\"    \" + axe_x_name[i-1]+\"=0\", \" \" + axe_x_name[i-1]+\"=1\",\"\", \"\"],rotation=0, fontsize = 15)\n",
    "    ax.set_ylabel(axe_y_name[i-1], fontsize = 15)"
   ]
  },
  {
   "cell_type": "code",
   "execution_count": null,
   "metadata": {},
   "outputs": [],
   "source": [
    "fig = plt.figure()\n",
    "plt.rcParams['figure.figsize'] = [15,7]\n",
    "plt.rcParams[\"font.weight\"] = \"bold\"\n",
    "\n",
    "fontdict={'fontsize': 25,\n",
    "          'weight' : 'bold'}\n",
    "\n",
    "fontdicty={'fontsize': 18,\n",
    "          'weight' : 'bold',\n",
    "          'verticalalignment': 'baseline',\n",
    "          'horizontalalignment': 'center'}\n",
    "\n",
    "fontdictx={'fontsize': 18,\n",
    "          'weight' : 'bold',\n",
    "          'horizontalalignment': 'center'}\n",
    "plt.subplots_adjust(wspace=0.3, hspace=0.4)\n",
    "\n",
    "range_i = [0,1,2,4,8]\n",
    "\n",
    "titles = [\"$I_2$\",\"$I_3$\",\"$I_5$\",\"$I_9$\"]\n",
    "\n",
    "for i in range(1,len(range_i)):\n",
    "    ax = fig.add_subplot(2,4,i)\n",
    "    \n",
    "    y_val = data_v_plot.loc[:,Ind_pay_true[range_i[i]]]\n",
    "    y_proba_val = data_v_plot.loc[:,Ind_pay_pred[range_i[i]]]\n",
    "    fpr_rf, tpr_rf, thresholds = roc_curve(y_val, y_proba_val)\n",
    "\n",
    "    ax.plot([0, 1], [0, 1], 'k--')\n",
    "    ax.plot(fpr_rf, tpr_rf, label='MT',color=\"orange\",linewidth=4)\n",
    "    \n",
    "    y_val = data_t_plot.loc[:,Ind_pay_true[range_i[i]]]\n",
    "    y_proba_val = data_t_plot.loc[:,Ind_pay_pred[range_i[i]]]\n",
    "    fpr_rf, tpr_rf, thresholds = roc_curve(y_val, y_proba_val)\n",
    "\n",
    "    ax.plot([0, 1], [0, 1], 'k--')\n",
    "    ax.plot(fpr_rf, tpr_rf, label='MT',linewidth=2.5)\n",
    "    \n",
    "    ax.set_xlabel('False positive rate',fontsize=14)\n",
    "    ax.set_ylabel('True positive rate',fontsize=14)\n",
    "    ax.set_title('ROC curve of ' +titles[i-1],fontsize=14)\n"
   ]
  },
  {
   "cell_type": "markdown",
   "metadata": {
    "collapsed": true
   },
   "source": [
    "## Expected predicted payments"
   ]
  },
  {
   "cell_type": "code",
   "execution_count": null,
   "metadata": {},
   "outputs": [],
   "source": [
    "ESP_pay = ['E_pay_pred_' +str(i) for i in dev[1:]]\n",
    "for i in range(11):\n",
    "    data_v_plot[ESP_pay[i]] = data_v_plot[pay_pred[i+1]]*data_v_plot[Ind_pay_pred[i+1]]\n",
    "    data_t_plot[ESP_pay[i]] = data_t_plot[pay_pred[i+1]]*data_t_plot[Ind_pay_pred[i+1]]"
   ]
  },
  {
   "cell_type": "code",
   "execution_count": null,
   "metadata": {},
   "outputs": [],
   "source": [
    "index_pay = list(range(27,39))\n",
    "index_pay_pred = list(range(52,63))\n",
    "\n",
    "def reserve_data(data_name,data_plot):\n",
    "    for i in range(len(data_name)):\n",
    "        dd = data_name.loc[i, 'Nb_Dev']\n",
    "        if dd == 12:\n",
    "            index_to_keep = index_pay\n",
    "        else:\n",
    "            index_to_keep = index_pay[0:dd] + index_pay_pred[(dd-1):11]\n",
    "        data_plot.loc[i, 'Pay_Ult_Pred'] = data_plot.iloc[i, index_to_keep].sum()\n",
    "        index_to_keep = index_pay[0:dd]\n",
    "        data_plot.loc[i, 'PAID_AT_ED'] = data_plot.iloc[i, index_to_keep].sum()\n",
    "    #verification\n",
    "    print(data_plot[data_name['Nb_Dev']==12]['Pay_Ult_Pred'].sum(), data_plot[data_name['Nb_Dev']==12]['PAID_AT_ED'].sum())\n",
    "    data_plot['Pay_Ult_true'] = data_plot.iloc[:, index_pay].sum(axis=1)\n",
    "    data_plot['Pred_res'] = data_plot['Pay_Ult_Pred']-data_plot['PAID_AT_ED']\n",
    "    data_plot['true_res'] = data_plot['Pay_Ult_true']-data_plot['PAID_AT_ED']\n",
    "    data_plot['Nb_Dev']= data_name['Nb_Dev']\n",
    "    return data_plot"
   ]
  },
  {
   "cell_type": "code",
   "execution_count": null,
   "metadata": {},
   "outputs": [],
   "source": [
    "data_v_res = reserve_data(data_valid,data_v_plot)"
   ]
  },
  {
   "cell_type": "code",
   "execution_count": null,
   "metadata": {},
   "outputs": [],
   "source": [
    "data_t_res = reserve_data(data_test,data_t_plot)"
   ]
  },
  {
   "cell_type": "code",
   "execution_count": null,
   "metadata": {},
   "outputs": [],
   "source": [
    "def ratio(data):\n",
    "    data_res= data[data['Nb_Dev']!=12]\n",
    "    print(\"ratio reserve\", data_res['Pred_res'].sum()/data_res['true_res'].sum())\n",
    "    print(\"ratio ultime\", data_res['Pay_Ult_Pred'].sum()/data_res['Pay_Ult_true'].sum())"
   ]
  },
  {
   "cell_type": "code",
   "execution_count": null,
   "metadata": {},
   "outputs": [],
   "source": [
    "ratio(data_v_res)"
   ]
  },
  {
   "cell_type": "code",
   "execution_count": null,
   "metadata": {},
   "outputs": [],
   "source": [
    "ratio(data_t_res)"
   ]
  },
  {
   "cell_type": "code",
   "execution_count": null,
   "metadata": {},
   "outputs": [],
   "source": [
    "fig = plt.figure()\n",
    "plt.rcParams['figure.figsize'] = [15,12]\n",
    "plt.rcParams[\"font.weight\"] = \"bold\"\n",
    "\n",
    "fontdict={'fontsize': 25,\n",
    "          'weight' : 'bold'}\n",
    "\n",
    "fontdicty={'fontsize': 18,\n",
    "          'weight' : 'bold',\n",
    "          'verticalalignment': 'baseline',\n",
    "          'horizontalalignment': 'center'}\n",
    "\n",
    "fontdictx={'fontsize': 18,\n",
    "          'weight' : 'bold',\n",
    "          'horizontalalignment': 'center'}\n",
    "plt.subplots_adjust(wspace=0.4, hspace=0.3)\n",
    "data_res = data_t_res\n",
    "data_res['LoB'] = data_test['LoB']\n",
    "data_res = data_res[data_res['Nb_Dev']!=12]\n",
    "\n",
    "for i in range(1,5):\n",
    "    ax = fig.add_subplot(2,2,i)\n",
    "    subdata= data_res[data_res['LoB']==i]\n",
    "    ax.scatter(subdata['true_res'],subdata['Pred_res'], alpha=0.3 )\n",
    "    ax.plot(ax.get_ylim(),ax.get_ylim(), color=\"black\")\n",
    "    ax.set_title('Line of business ' + str(i),fontsize = 16,fontdict=fontdicty)\n",
    "    ax.set_ylabel(\"Expected reserve\", position=(0,0.5), fontsize = 18)\n",
    "    ax.set_xlabel(\"Observed reserve\", position=(0.5,0), fontsize = 18)\n",
    "    ax.xaxis.labelpad=15"
   ]
  },
  {
   "cell_type": "code",
   "execution_count": null,
   "metadata": {},
   "outputs": [],
   "source": []
  }
 ],
 "metadata": {
  "kernelspec": {
   "display_name": "Python 3",
   "language": "python",
   "name": "python3"
  },
  "language_info": {
   "codemirror_mode": {
    "name": "ipython",
    "version": 3
   },
   "file_extension": ".py",
   "mimetype": "text/x-python",
   "name": "python",
   "nbconvert_exporter": "python",
   "pygments_lexer": "ipython3",
   "version": "3.8.10"
  }
 },
 "nbformat": 4,
 "nbformat_minor": 2
}
